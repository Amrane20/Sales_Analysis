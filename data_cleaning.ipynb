{
 "cells": [
  {
   "cell_type": "code",
   "execution_count": 3,
   "id": "acf1b696-5d59-40df-b9aa-48e12326bc74",
   "metadata": {},
   "outputs": [
    {
     "data": {
      "text/html": [
       "<div>\n",
       "<style scoped>\n",
       "    .dataframe tbody tr th:only-of-type {\n",
       "        vertical-align: middle;\n",
       "    }\n",
       "\n",
       "    .dataframe tbody tr th {\n",
       "        vertical-align: top;\n",
       "    }\n",
       "\n",
       "    .dataframe thead th {\n",
       "        text-align: right;\n",
       "    }\n",
       "</style>\n",
       "<table border=\"1\" class=\"dataframe\">\n",
       "  <thead>\n",
       "    <tr style=\"text-align: right;\">\n",
       "      <th></th>\n",
       "      <th>Order_ID</th>\n",
       "      <th>Order_Priority</th>\n",
       "      <th>Order_Quantity</th>\n",
       "      <th>Sales</th>\n",
       "      <th>Ship_Mode</th>\n",
       "      <th>Profit</th>\n",
       "      <th>Customer_Name</th>\n",
       "      <th>Region</th>\n",
       "      <th>Customer_Segment</th>\n",
       "      <th>Product_Category</th>\n",
       "      <th>Product_Sub-Category</th>\n",
       "      <th>Product_Name</th>\n",
       "      <th>Product_Container</th>\n",
       "    </tr>\n",
       "  </thead>\n",
       "  <tbody>\n",
       "    <tr>\n",
       "      <th>0</th>\n",
       "      <td>643</td>\n",
       "      <td>High</td>\n",
       "      <td>21</td>\n",
       "      <td>2781.82</td>\n",
       "      <td>Express Air</td>\n",
       "      <td>-695.26</td>\n",
       "      <td>Monica Federle</td>\n",
       "      <td>Nunavut</td>\n",
       "      <td>Corporate</td>\n",
       "      <td>Office Supplies</td>\n",
       "      <td>Storage &amp; Organization</td>\n",
       "      <td>SAFCO Commercial Wire Shelving, Black</td>\n",
       "      <td>Large Box</td>\n",
       "    </tr>\n",
       "    <tr>\n",
       "      <th>1</th>\n",
       "      <td>8995</td>\n",
       "      <td>High</td>\n",
       "      <td>35</td>\n",
       "      <td>3389.93</td>\n",
       "      <td>Express Air</td>\n",
       "      <td>737.94</td>\n",
       "      <td>Beth Paige</td>\n",
       "      <td>Northwest Territories</td>\n",
       "      <td>Consumer</td>\n",
       "      <td>Furniture</td>\n",
       "      <td>Office Furnishings</td>\n",
       "      <td>Luxo Professional Combination Clamp-On Lamps</td>\n",
       "      <td>Large Box</td>\n",
       "    </tr>\n",
       "    <tr>\n",
       "      <th>2</th>\n",
       "      <td>9127</td>\n",
       "      <td>Not Specified</td>\n",
       "      <td>7</td>\n",
       "      <td>2039.56</td>\n",
       "      <td>Express Air</td>\n",
       "      <td>-329.49</td>\n",
       "      <td>Bryan Davis</td>\n",
       "      <td>Northwest Territories</td>\n",
       "      <td>Corporate</td>\n",
       "      <td>Office Supplies</td>\n",
       "      <td>Storage &amp; Organization</td>\n",
       "      <td>Tennsco Snap-Together Open Shelving Units, Sta...</td>\n",
       "      <td>Large Box</td>\n",
       "    </tr>\n",
       "    <tr>\n",
       "      <th>3</th>\n",
       "      <td>26272</td>\n",
       "      <td>Low</td>\n",
       "      <td>6</td>\n",
       "      <td>905.94</td>\n",
       "      <td>Express Air</td>\n",
       "      <td>-4.19</td>\n",
       "      <td>Carlos Daly</td>\n",
       "      <td>Northwest Territories</td>\n",
       "      <td>Home Office</td>\n",
       "      <td>Furniture</td>\n",
       "      <td>Chairs &amp; Chairmats</td>\n",
       "      <td>Hon Olson Stacker Stools</td>\n",
       "      <td>Large Box</td>\n",
       "    </tr>\n",
       "    <tr>\n",
       "      <th>4</th>\n",
       "      <td>36646</td>\n",
       "      <td>Medium</td>\n",
       "      <td>24</td>\n",
       "      <td>1168.15</td>\n",
       "      <td>Express Air</td>\n",
       "      <td>-743.96</td>\n",
       "      <td>Muhammed MacIntyre</td>\n",
       "      <td>Northwest Territories</td>\n",
       "      <td>Small Business</td>\n",
       "      <td>Office Supplies</td>\n",
       "      <td>Storage &amp; Organization</td>\n",
       "      <td>Tennsco Industrial Shelving</td>\n",
       "      <td>Large Box</td>\n",
       "    </tr>\n",
       "    <tr>\n",
       "      <th>5</th>\n",
       "      <td>41696</td>\n",
       "      <td>Not Specified</td>\n",
       "      <td>45</td>\n",
       "      <td>237.28</td>\n",
       "      <td>Express Air</td>\n",
       "      <td>-2088.68</td>\n",
       "      <td>Bryan Mills</td>\n",
       "      <td>Northwest Territories</td>\n",
       "      <td>Small Business</td>\n",
       "      <td>Office Supplies</td>\n",
       "      <td>Appliances</td>\n",
       "      <td>Hoover Portapower™ Portable Vacuum</td>\n",
       "      <td>Large Box</td>\n",
       "    </tr>\n",
       "    <tr>\n",
       "      <th>6</th>\n",
       "      <td>43267</td>\n",
       "      <td>Critical</td>\n",
       "      <td>17</td>\n",
       "      <td>1368.14</td>\n",
       "      <td>Express Air</td>\n",
       "      <td>171.26</td>\n",
       "      <td>Fred Wasserman</td>\n",
       "      <td>Northwest Territories</td>\n",
       "      <td>Home Office</td>\n",
       "      <td>Office Supplies</td>\n",
       "      <td>Appliances</td>\n",
       "      <td>Honeywell Enviracaire® Portable Air Cleaner fo...</td>\n",
       "      <td>Large Box</td>\n",
       "    </tr>\n",
       "    <tr>\n",
       "      <th>7</th>\n",
       "      <td>29319</td>\n",
       "      <td>Low</td>\n",
       "      <td>21</td>\n",
       "      <td>4429.69</td>\n",
       "      <td>Express Air</td>\n",
       "      <td>983.55</td>\n",
       "      <td>Filia McAdams</td>\n",
       "      <td>Atlantic</td>\n",
       "      <td>Small Business</td>\n",
       "      <td>Technology</td>\n",
       "      <td>Copiers and Fax</td>\n",
       "      <td>Canon PC-428 Personal Copier</td>\n",
       "      <td>Large Box</td>\n",
       "    </tr>\n",
       "    <tr>\n",
       "      <th>8</th>\n",
       "      <td>5988</td>\n",
       "      <td>Not Specified</td>\n",
       "      <td>40</td>\n",
       "      <td>19109.61</td>\n",
       "      <td>Express Air</td>\n",
       "      <td>-379.29</td>\n",
       "      <td>Sanjit Chand</td>\n",
       "      <td>West</td>\n",
       "      <td>Home Office</td>\n",
       "      <td>Technology</td>\n",
       "      <td>Copiers and Fax</td>\n",
       "      <td>Sharp AL-1530CS Digital Copier</td>\n",
       "      <td>Large Box</td>\n",
       "    </tr>\n",
       "    <tr>\n",
       "      <th>9</th>\n",
       "      <td>51073</td>\n",
       "      <td>Not Specified</td>\n",
       "      <td>17</td>\n",
       "      <td>2475.08</td>\n",
       "      <td>Express Air</td>\n",
       "      <td>958.80</td>\n",
       "      <td>Luke Weiss</td>\n",
       "      <td>West</td>\n",
       "      <td>Corporate</td>\n",
       "      <td>Furniture</td>\n",
       "      <td>Office Furnishings</td>\n",
       "      <td>3M Polarizing Task Lamp with Clamp Arm, Light ...</td>\n",
       "      <td>Large Box</td>\n",
       "    </tr>\n",
       "  </tbody>\n",
       "</table>\n",
       "</div>"
      ],
      "text/plain": [
       "   Order_ID Order_Priority  Order_Quantity     Sales    Ship_Mode   Profit  \\\n",
       "0       643           High              21   2781.82  Express Air  -695.26   \n",
       "1      8995           High              35   3389.93  Express Air   737.94   \n",
       "2      9127  Not Specified               7   2039.56  Express Air  -329.49   \n",
       "3     26272            Low               6    905.94  Express Air    -4.19   \n",
       "4     36646         Medium              24   1168.15  Express Air  -743.96   \n",
       "5     41696  Not Specified              45    237.28  Express Air -2088.68   \n",
       "6     43267       Critical              17   1368.14  Express Air   171.26   \n",
       "7     29319            Low              21   4429.69  Express Air   983.55   \n",
       "8      5988  Not Specified              40  19109.61  Express Air  -379.29   \n",
       "9     51073  Not Specified              17   2475.08  Express Air   958.80   \n",
       "\n",
       "        Customer_Name                 Region Customer_Segment  \\\n",
       "0      Monica Federle                Nunavut        Corporate   \n",
       "1          Beth Paige  Northwest Territories         Consumer   \n",
       "2         Bryan Davis  Northwest Territories        Corporate   \n",
       "3         Carlos Daly  Northwest Territories      Home Office   \n",
       "4  Muhammed MacIntyre  Northwest Territories   Small Business   \n",
       "5         Bryan Mills  Northwest Territories   Small Business   \n",
       "6      Fred Wasserman  Northwest Territories      Home Office   \n",
       "7       Filia McAdams               Atlantic   Small Business   \n",
       "8        Sanjit Chand                   West      Home Office   \n",
       "9          Luke Weiss                   West        Corporate   \n",
       "\n",
       "  Product_Category    Product_Sub-Category  \\\n",
       "0  Office Supplies  Storage & Organization   \n",
       "1        Furniture      Office Furnishings   \n",
       "2  Office Supplies  Storage & Organization   \n",
       "3        Furniture      Chairs & Chairmats   \n",
       "4  Office Supplies  Storage & Organization   \n",
       "5  Office Supplies              Appliances   \n",
       "6  Office Supplies              Appliances   \n",
       "7       Technology         Copiers and Fax   \n",
       "8       Technology         Copiers and Fax   \n",
       "9        Furniture      Office Furnishings   \n",
       "\n",
       "                                        Product_Name Product_Container  \n",
       "0              SAFCO Commercial Wire Shelving, Black         Large Box  \n",
       "1       Luxo Professional Combination Clamp-On Lamps         Large Box  \n",
       "2  Tennsco Snap-Together Open Shelving Units, Sta...         Large Box  \n",
       "3                           Hon Olson Stacker Stools         Large Box  \n",
       "4                        Tennsco Industrial Shelving         Large Box  \n",
       "5                 Hoover Portapower™ Portable Vacuum         Large Box  \n",
       "6  Honeywell Enviracaire® Portable Air Cleaner fo...         Large Box  \n",
       "7                       Canon PC-428 Personal Copier         Large Box  \n",
       "8                     Sharp AL-1530CS Digital Copier         Large Box  \n",
       "9  3M Polarizing Task Lamp with Clamp Arm, Light ...         Large Box  "
      ]
     },
     "execution_count": 3,
     "metadata": {},
     "output_type": "execute_result"
    }
   ],
   "source": [
    "import pandas as pd \n",
    "import matplotlib.pyplot as plt\n",
    "import numpy as np\n",
    "import seaborn as sns\n",
    "import plotly.express as px\n",
    "data = \"data/Salesstore.csv\"\n",
    "df = pd.read_csv(data)\n",
    "df.head(10)"
   ]
  },
  {
   "cell_type": "code",
   "execution_count": null,
   "id": "dda00430-d296-41d3-9524-da99d3641c25",
   "metadata": {},
   "outputs": [],
   "source": [
    "#check null values "
   ]
  },
  {
   "cell_type": "code",
   "execution_count": 25,
   "id": "f3408fec-93c1-4d78-81c5-9099d74cd168",
   "metadata": {},
   "outputs": [
    {
     "data": {
      "text/plain": [
       "Order_ID                False\n",
       "Order_Priority          False\n",
       "Order_Quantity          False\n",
       "Sales                   False\n",
       "Ship_Mode               False\n",
       "Profit                  False\n",
       "Customer_Name           False\n",
       "Region                  False\n",
       "Customer_Segment        False\n",
       "Product_Category        False\n",
       "Product_Sub-Category    False\n",
       "Product_Name            False\n",
       "Product_Container       False\n",
       "dtype: bool"
      ]
     },
     "execution_count": 25,
     "metadata": {},
     "output_type": "execute_result"
    }
   ],
   "source": [
    "df.isnull().any()"
   ]
  },
  {
   "cell_type": "code",
   "execution_count": null,
   "id": "36373034-76ad-49f6-bf5a-d10ce00c8b7b",
   "metadata": {},
   "outputs": [],
   "source": [
    "#check duplication"
   ]
  },
  {
   "cell_type": "code",
   "execution_count": 29,
   "id": "59c7db77-5b35-4018-8204-7625effec29b",
   "metadata": {},
   "outputs": [
    {
     "data": {
      "text/plain": [
       "False"
      ]
     },
     "execution_count": 29,
     "metadata": {},
     "output_type": "execute_result"
    }
   ],
   "source": [
    "df.duplicated().any()"
   ]
  },
  {
   "cell_type": "code",
   "execution_count": null,
   "id": "bb328f7a-cc76-4da0-b8c1-b441ba484e0c",
   "metadata": {},
   "outputs": [],
   "source": [
    "#check the data type of the dataFrame"
   ]
  },
  {
   "cell_type": "code",
   "execution_count": 31,
   "id": "cf9fd23b-f292-42d8-b01e-0d928667b479",
   "metadata": {},
   "outputs": [
    {
     "name": "stdout",
     "output_type": "stream",
     "text": [
      "Order_ID                  int64\n",
      "Order_Priority           object\n",
      "Order_Quantity            int64\n",
      "Sales                   float64\n",
      "Ship_Mode                object\n",
      "Profit                  float64\n",
      "Customer_Name            object\n",
      "Region                   object\n",
      "Customer_Segment         object\n",
      "Product_Category         object\n",
      "Product_Sub-Category     object\n",
      "Product_Name             object\n",
      "Product_Container        object\n",
      "dtype: object\n"
     ]
    }
   ],
   "source": [
    "print(df.dtypes)"
   ]
  },
  {
   "cell_type": "code",
   "execution_count": 9,
   "id": "1a870f4d-a71b-4be7-a5eb-9a18e046682b",
   "metadata": {},
   "outputs": [
    {
     "data": {
      "text/plain": [
       "Index(['Order_ID', 'Order_Priority', 'Order_Quantity', 'Sales', 'Ship_Mode',\n",
       "       'Profit', 'Customer_Name', 'Region', 'Customer_Segment',\n",
       "       'Product_Category', 'Product_Sub-Category', 'Product_Name',\n",
       "       'Product_Container'],\n",
       "      dtype='object')"
      ]
     },
     "execution_count": 9,
     "metadata": {},
     "output_type": "execute_result"
    }
   ],
   "source": [
    "df.columns"
   ]
  },
  {
   "cell_type": "code",
   "execution_count": null,
   "id": "cfaf2c96-7ffb-4f8c-9393-80f4cf188247",
   "metadata": {},
   "outputs": [],
   "source": [
    "# Drop the Customer_Name column "
   ]
  },
  {
   "cell_type": "code",
   "execution_count": 27,
   "id": "fc5047a5-f345-4769-8d2c-2e7f99a4f832",
   "metadata": {},
   "outputs": [],
   "source": [
    "# df = df.drop('Customer_Name', axis=1)"
   ]
  },
  {
   "cell_type": "code",
   "execution_count": 2,
   "id": "146a7e13-4312-4a61-a9c8-4e179f0b3d85",
   "metadata": {},
   "outputs": [
    {
     "data": {
      "text/plain": [
       "1       8995\n",
       "10     29185\n",
       "13     49088\n",
       "14     29318\n",
       "18     25031\n",
       "       ...  \n",
       "721    30016\n",
       "722    30016\n",
       "725    56101\n",
       "726     1059\n",
       "727     1059\n",
       "Name: Order_ID, Length: 288, dtype: int64"
      ]
     },
     "execution_count": 2,
     "metadata": {},
     "output_type": "execute_result"
    }
   ],
   "source": [
    "# get the orders_id that repeated in order to check if there is a realtionship between the order_id and customer_name\n",
    "repeated_orders = df[df.duplicated(subset='Order_ID', keep=False)]['Order_ID']\n",
    "repeated_orders"
   ]
  },
  {
   "cell_type": "markdown",
   "id": "ad7be241-de8e-4b91-815a-02108121ba57",
   "metadata": {},
   "source": [
    "### Data standarlizing"
   ]
  },
  {
   "cell_type": "code",
   "execution_count": 34,
   "id": "3d8b2eb8-4b0f-42b1-9107-aed10f4ff93a",
   "metadata": {},
   "outputs": [],
   "source": [
    "columns_to_capitalize = ['Order_Priority', 'Ship_Mode', 'Region', 'Customer_Segment',\n",
    "       'Product_Category', 'Product_Sub-Category', 'Product_Name',\n",
    "       'Product_Container']\n",
    "df[columns_to_capitalize] = df[columns_to_capitalize].apply(lambda x: x.str.title())"
   ]
  },
  {
   "cell_type": "markdown",
   "id": "7369b37e-fb65-4b97-8f3c-95c4bc54a1b5",
   "metadata": {},
   "source": [
    "## => What is the number of unique Order_priority?"
   ]
  },
  {
   "cell_type": "code",
   "execution_count": 40,
   "id": "93967067-876a-4fc4-adc1-4eab2ca377f0",
   "metadata": {},
   "outputs": [
    {
     "data": {
      "text/plain": [
       "5"
      ]
     },
     "execution_count": 40,
     "metadata": {},
     "output_type": "execute_result"
    }
   ],
   "source": [
    "nb_priority = df['Order_Priority'].nunique()\n",
    "nb_priority"
   ]
  },
  {
   "cell_type": "markdown",
   "id": "f2e9b585-c686-4fbb-91db-a4eb6b1cab41",
   "metadata": {},
   "source": [
    "## => How many orders for each priority ?"
   ]
  },
  {
   "cell_type": "code",
   "execution_count": 58,
   "id": "c9c6b4ed-1fb5-43b2-8995-28edf39f7bc1",
   "metadata": {},
   "outputs": [
    {
     "data": {
      "text/plain": [
       "Order_Priority\n",
       "Not Specified    156\n",
       "High             152\n",
       "Low              147\n",
       "Critical         147\n",
       "Medium           128\n",
       "Name: count, dtype: int64"
      ]
     },
     "execution_count": 58,
     "metadata": {},
     "output_type": "execute_result"
    }
   ],
   "source": [
    "nb_priority = df['Order_Priority'].value_counts()\n",
    "nb_priority"
   ]
  },
  {
   "cell_type": "markdown",
   "id": "abf79b13-419c-4105-ab57-0ecdbbe783a9",
   "metadata": {},
   "source": [
    "#### How many region there ?"
   ]
  },
  {
   "cell_type": "code",
   "execution_count": 12,
   "id": "433bc2b7-1daf-469f-bf18-95f703bf059b",
   "metadata": {},
   "outputs": [
    {
     "data": {
      "text/plain": [
       "6"
      ]
     },
     "execution_count": 12,
     "metadata": {},
     "output_type": "execute_result"
    }
   ],
   "source": [
    "regions = df['Region'].nunique()\n",
    "regions"
   ]
  },
  {
   "cell_type": "code",
   "execution_count": 24,
   "id": "a92dfa22-c1bf-4201-9905-24daefd7a3b0",
   "metadata": {},
   "outputs": [
    {
     "data": {
      "text/plain": [
       "['Nunavut', 'Northwest Territories', 'Atlantic', 'West', 'Ontario', 'Prarie']"
      ]
     },
     "execution_count": 24,
     "metadata": {},
     "output_type": "execute_result"
    }
   ],
   "source": [
    "regions = df['Region'].unique().tolist()\n",
    "regions"
   ]
  },
  {
   "cell_type": "markdown",
   "id": "e55beca6-b47f-4555-a874-7243e861ea99",
   "metadata": {},
   "source": [
    "### How many Customer_Segment are there?"
   ]
  },
  {
   "cell_type": "code",
   "execution_count": 14,
   "id": "9e66059e-8d80-4aea-a73c-6f97d7c2f123",
   "metadata": {},
   "outputs": [
    {
     "data": {
      "text/plain": [
       "4"
      ]
     },
     "execution_count": 14,
     "metadata": {},
     "output_type": "execute_result"
    }
   ],
   "source": [
    "segments = df['Customer_Segment'].nunique()\n",
    "segments"
   ]
  },
  {
   "cell_type": "code",
   "execution_count": 23,
   "id": "6b3a5dd2-54cf-4794-9ea4-f4b54f317a82",
   "metadata": {},
   "outputs": [
    {
     "data": {
      "text/plain": [
       "['Corporate', 'Consumer', 'Home Office', 'Small Business']"
      ]
     },
     "execution_count": 23,
     "metadata": {},
     "output_type": "execute_result"
    }
   ],
   "source": [
    "segments = df['Customer_Segment'].unique().tolist()\n",
    "segments"
   ]
  },
  {
   "cell_type": "markdown",
   "id": "d1c4b5ba-d936-4be0-85b0-b9c582f50bb0",
   "metadata": {},
   "source": [
    "### How many Product_Catigorie exists?"
   ]
  },
  {
   "cell_type": "code",
   "execution_count": 19,
   "id": "367a367a-ab14-4d32-840e-66227ef5422c",
   "metadata": {},
   "outputs": [
    {
     "data": {
      "text/plain": [
       "3"
      ]
     },
     "execution_count": 19,
     "metadata": {},
     "output_type": "execute_result"
    }
   ],
   "source": [
    "products = df['Product_Category'].nunique()\n",
    "products\n"
   ]
  },
  {
   "cell_type": "code",
   "execution_count": 22,
   "id": "63f27dcb-beb7-4150-94e6-1206d8047687",
   "metadata": {},
   "outputs": [
    {
     "data": {
      "text/plain": [
       "['Office Supplies', 'Furniture', 'Technology']"
      ]
     },
     "execution_count": 22,
     "metadata": {},
     "output_type": "execute_result"
    }
   ],
   "source": [
    "products = df['Product_Category'].unique().tolist()\n",
    "products"
   ]
  },
  {
   "cell_type": "markdown",
   "id": "31380c6e-7ef4-4bdc-bbd5-76bcf84aa891",
   "metadata": {},
   "source": [
    "### How many Product_Sub-Category are there?"
   ]
  },
  {
   "cell_type": "code",
   "execution_count": 28,
   "id": "68749072-2a51-4788-9b07-578fec2a82f9",
   "metadata": {},
   "outputs": [
    {
     "data": {
      "text/plain": [
       "15"
      ]
     },
     "execution_count": 28,
     "metadata": {},
     "output_type": "execute_result"
    }
   ],
   "source": [
    "sup_products = df['Product_Sub-Category'].nunique()\n",
    "sup_products"
   ]
  },
  {
   "cell_type": "code",
   "execution_count": 29,
   "id": "250f47c2-424c-41d9-836d-879527abc712",
   "metadata": {},
   "outputs": [
    {
     "data": {
      "text/plain": [
       "['Storage & Organization',\n",
       " 'Office Furnishings',\n",
       " 'Chairs & Chairmats',\n",
       " 'Appliances',\n",
       " 'Copiers and Fax',\n",
       " 'Office Machines',\n",
       " 'Tables',\n",
       " 'Telephones and Communication',\n",
       " 'Scissors, Rulers and Trimmers',\n",
       " 'Labels',\n",
       " 'Paper',\n",
       " 'Binders and Binder Accessories',\n",
       " 'Computer Peripherals',\n",
       " 'Envelopes',\n",
       " 'Pens & Art Supplies']"
      ]
     },
     "execution_count": 29,
     "metadata": {},
     "output_type": "execute_result"
    }
   ],
   "source": [
    "sup_products = df['Product_Sub-Category'].unique().tolist()\n",
    "sup_products"
   ]
  },
  {
   "cell_type": "markdown",
   "id": "0608c99a-ec8b-470d-aaff-554196db51ba",
   "metadata": {},
   "source": [
    "##### what Region had the highest number of sales?"
   ]
  },
  {
   "cell_type": "code",
   "execution_count": 32,
   "id": "92a44126-70bb-493e-9d3e-8f63ad94428c",
   "metadata": {},
   "outputs": [
    {
     "data": {
      "text/plain": [
       "Region\n",
       "Atlantic                 271205.1010\n",
       "Northwest Territories    275140.7555\n",
       "Nunavut                   36306.4980\n",
       "Ontario                   81727.7725\n",
       "Prarie                    86646.1360\n",
       "West                     346001.4240\n",
       "Name: Sales, dtype: float64"
      ]
     },
     "execution_count": 32,
     "metadata": {},
     "output_type": "execute_result"
    }
   ],
   "source": [
    "region_sales = df.groupby('Region')['Sales'].sum()\n",
    "region_sales"
   ]
  },
  {
   "cell_type": "code",
   "execution_count": 30,
   "id": "1e2a1852-b0e3-4d9d-9346-25504177af52",
   "metadata": {},
   "outputs": [
    {
     "data": {
      "text/plain": [
       "'West'"
      ]
     },
     "execution_count": 30,
     "metadata": {},
     "output_type": "execute_result"
    }
   ],
   "source": [
    "highest_sales_region = region_sales.idxmax()\n",
    "highest_sales_region"
   ]
  },
  {
   "cell_type": "markdown",
   "id": "e859ce48-5369-4e40-9598-5f9da08b2319",
   "metadata": {},
   "source": [
    "##### what Product_Name sold the most?"
   ]
  },
  {
   "cell_type": "code",
   "execution_count": 33,
   "id": "4d29579e-6b42-4353-8797-82b670773d80",
   "metadata": {},
   "outputs": [
    {
     "data": {
      "text/plain": [
       "Product_Name\n",
       "#10 Self-Seal White Envelopes                           57\n",
       "#10 White Business Envelopes,4 1/8 x 9 1/2             102\n",
       "#10- 4 1/8\" x 9 1/2\" Recycled Envelopes                 81\n",
       "#10- 4 1/8\" x 9 1/2\" Security-Tint Envelopes             2\n",
       "#10-4 1/8\" x 9 1/2\" Premium Diagonal Seam Envelopes     47\n",
       "                                                      ... \n",
       "Zoom V.92 V.44 PCI Internal Controllerless FaxModem     42\n",
       "g520                                                    43\n",
       "i1000                                                   39\n",
       "i470                                                    45\n",
       "i500plus                                                23\n",
       "Name: Order_Quantity, Length: 445, dtype: int64"
      ]
     },
     "execution_count": 33,
     "metadata": {},
     "output_type": "execute_result"
    }
   ],
   "source": [
    "product_quantity = df.groupby('Product_Name')['Order_Quantity'].sum()\n",
    "product_quantity"
   ]
  },
  {
   "cell_type": "markdown",
   "id": "714ee439-4a2c-4f61-b330-152825402dee",
   "metadata": {},
   "source": [
    "##### wich categorie had the highest/lowest profit?"
   ]
  },
  {
   "cell_type": "code",
   "execution_count": 29,
   "id": "4d9c28cb-49f4-49ea-a056-53e789905a8f",
   "metadata": {},
   "outputs": [
    {
     "data": {
      "text/plain": [
       "Product_Category\n",
       "Technology         81368.05\n",
       "Office Supplies    53073.95\n",
       "Furniture          17017.84\n",
       "Name: Profit, dtype: float64"
      ]
     },
     "execution_count": 29,
     "metadata": {},
     "output_type": "execute_result"
    }
   ],
   "source": [
    "category_profit = df.groupby('Product_Category')['Profit'].sum()\n",
    "highest_profit_category = category_profit.idxmax()\n",
    "category_profit.sort_values(ascending=False)\n",
    "#print(f\"the categorie that had the highest profit is {highest_profit_category} with {category_profit.max()} profit \\\n",
    "#\\nAnd the lowest is {category_profit.idxmin()} with {category_profit.min()}\")"
   ]
  },
  {
   "cell_type": "markdown",
   "id": "1ee888e3-e4ee-4429-8501-187205ec85a6",
   "metadata": {},
   "source": [
    "##### wich sub_categorie had the highest/lowest profit?"
   ]
  },
  {
   "cell_type": "code",
   "execution_count": 30,
   "id": "68cc4c10-28c4-4fed-9ad8-7e625f9b3f4d",
   "metadata": {},
   "outputs": [
    {
     "data": {
      "text/plain": [
       "Product_Sub-Category\n",
       "Telephones and Communication      47992.17\n",
       "Office Machines                   26832.43\n",
       "Binders and Binder Accessories    26291.74\n",
       "Appliances                        22731.86\n",
       "Chairs & Chairmats                12164.94\n",
       "Office Furnishings                 8700.26\n",
       "Envelopes                          6049.97\n",
       "Computer Peripherals               4982.06\n",
       "Paper                              3124.64\n",
       "Copiers and Fax                    1561.39\n",
       "Labels                             1296.60\n",
       "Pens & Art Supplies                 -93.30\n",
       "Scissors, Rulers and Trimmers     -1759.58\n",
       "Tables                            -3847.36\n",
       "Storage & Organization            -4567.98\n",
       "Name: Profit, dtype: float64"
      ]
     },
     "execution_count": 30,
     "metadata": {},
     "output_type": "execute_result"
    }
   ],
   "source": [
    "sub_category_profit = df.groupby('Product_Sub-Category')['Profit'].sum()\n",
    "highest_profit_sub_category = sub_category_profit.idxmax()\n",
    "lowest_profit_sub_category = sub_category_profit.idxmin()\n",
    "sub_category_profit.sort_values(ascending = False)\n",
    "#print(f\"the sub categorie that had the highest profit is {highest_profit_sub_category} with {sub_category_profit.max()} profit \\\n",
    "#\\nAnd the lowest is {lowest_profit_sub_category} with {sub_category_profit.min()}\")"
   ]
  },
  {
   "cell_type": "markdown",
   "id": "b624334b-f0ba-4937-b8c5-d10cf7158da2",
   "metadata": {},
   "source": [
    "##### wich product had the high order_quantity?"
   ]
  },
  {
   "cell_type": "code",
   "execution_count": 24,
   "id": "8d55daaf-200c-4528-be42-ed0a585795e6",
   "metadata": {},
   "outputs": [
    {
     "data": {
      "text/plain": [
       "Product_Name\n",
       "2160i                                                                         147\n",
       "TI 36X Solar Scientific Calculator                                            140\n",
       "12-1/2 Diameter Round Wall Clock                                              134\n",
       "Xerox 1920                                                                    129\n",
       "Eldon Expressions™ Desk Accessory, Wood Pencil Holder, Oak                    126\n",
       "                                                                             ... \n",
       "Eldon Cleatmat® Chair Mats for Medium Pile Carpets                              1\n",
       "Fellowes PB300 Plastic Comb Binding Machine                                     1\n",
       "Dot Matrix Printer Tape Reel Labels, White, 5000/Box                            1\n",
       "GBC DocuBind TL200 Manual Binding Machine                                       1\n",
       "Office Impressions Heavy Duty Welded Shelving & Multimedia Storage Drawers      1\n",
       "Name: Order_Quantity, Length: 445, dtype: int64"
      ]
     },
     "execution_count": 24,
     "metadata": {},
     "output_type": "execute_result"
    }
   ],
   "source": [
    "high_orders = df.groupby('Product_Name')['Order_Quantity'].sum()\n",
    "hight_orderd_product = high_orders.idxmax()\n",
    "high_orders.sort_values(ascending=False)"
   ]
  },
  {
   "cell_type": "markdown",
   "id": "476d4464-73bf-4001-9f70-d13adf71c3e0",
   "metadata": {},
   "source": [
    "##### what is the Customer_Segment that had a highest/lowest sales?"
   ]
  },
  {
   "cell_type": "code",
   "execution_count": 31,
   "id": "09ab9a23-3fa0-4d51-ad20-82c23a9aa45a",
   "metadata": {},
   "outputs": [
    {
     "data": {
      "text/plain": [
       "Customer_Segment\n",
       "Corporate         805343.1240\n",
       "Consumer          186041.2210\n",
       "Home Office        70363.1295\n",
       "Small Business     35280.2125\n",
       "Name: Sales, dtype: float64"
      ]
     },
     "execution_count": 31,
     "metadata": {},
     "output_type": "execute_result"
    }
   ],
   "source": [
    "customers_hight_sales = df.groupby('Customer_Segment')['Sales'].sum()\n",
    "customer_hight_sales = customers_hight_sales.idxmax()\n",
    "customers_hight_sales.sort_values(ascending=False)"
   ]
  },
  {
   "cell_type": "markdown",
   "id": "af81406f-7de5-4bd7-8400-c97297c00aa9",
   "metadata": {},
   "source": [
    "##### what is the Customer_Segment that had a highest/lowest profits?"
   ]
  },
  {
   "cell_type": "code",
   "execution_count": 47,
   "id": "b6dacefa-18ac-4249-b18e-2df03bda86eb",
   "metadata": {},
   "outputs": [
    {
     "data": {
      "text/plain": [
       "Customer_Segment\n",
       "Corporate         120106.44\n",
       "Consumer           18641.47\n",
       "Home Office        11619.34\n",
       "Small Business      1092.59\n",
       "Name: Profit, dtype: float64"
      ]
     },
     "execution_count": 47,
     "metadata": {},
     "output_type": "execute_result"
    }
   ],
   "source": [
    "customers_hight_profit = df.groupby('Customer_Segment')['Profit'].sum()\n",
    "customer_hight_profit = customers_hight_profit.idxmax()\n",
    "customers_hight_profit.sort_values(ascending=False)"
   ]
  },
  {
   "cell_type": "markdown",
   "id": "8f6ac93b-6035-45f9-82dc-38738758b69f",
   "metadata": {},
   "source": [
    "##### how many times we have the same nomber of order_quantity (wich quantity is popular)?"
   ]
  },
  {
   "cell_type": "code",
   "execution_count": 112,
   "id": "32298e69-3dad-4e76-b015-aca195682f4d",
   "metadata": {},
   "outputs": [
    {
     "data": {
      "text/plain": [
       "Order_Quantity\n",
       "42    24\n",
       "15    23\n",
       "8     22\n",
       "25    21\n",
       "36    21\n",
       "32    21\n",
       "19    20\n",
       "31    20\n",
       "24    19\n",
       "5     19\n",
       "dtype: int64"
      ]
     },
     "execution_count": 112,
     "metadata": {},
     "output_type": "execute_result"
    }
   ],
   "source": [
    "popular_qnt = df.groupby('Order_Quantity').size().sort_values(ascending=False)\n",
    "popular_qnt.head(10)"
   ]
  },
  {
   "cell_type": "markdown",
   "id": "6b9ff031-e7f6-4101-ba2e-b0c419294469",
   "metadata": {},
   "source": [
    "##### how many customers belong to each segment?"
   ]
  },
  {
   "cell_type": "code",
   "execution_count": 37,
   "id": "061655fe-3ec9-424d-ac34-5ba6b9073c06",
   "metadata": {},
   "outputs": [
    {
     "data": {
      "text/html": [
       "<div>\n",
       "<style scoped>\n",
       "    .dataframe tbody tr th:only-of-type {\n",
       "        vertical-align: middle;\n",
       "    }\n",
       "\n",
       "    .dataframe tbody tr th {\n",
       "        vertical-align: top;\n",
       "    }\n",
       "\n",
       "    .dataframe thead th {\n",
       "        text-align: right;\n",
       "    }\n",
       "</style>\n",
       "<table border=\"1\" class=\"dataframe\">\n",
       "  <thead>\n",
       "    <tr style=\"text-align: right;\">\n",
       "      <th></th>\n",
       "      <th>Order_ID</th>\n",
       "      <th>Order_Priority</th>\n",
       "      <th>Order_Quantity</th>\n",
       "      <th>Sales</th>\n",
       "      <th>Ship_Mode</th>\n",
       "      <th>Profit</th>\n",
       "      <th>Customer_Name</th>\n",
       "      <th>Region</th>\n",
       "      <th>Product_Category</th>\n",
       "      <th>Product_Sub-Category</th>\n",
       "      <th>Product_Name</th>\n",
       "      <th>Product_Container</th>\n",
       "    </tr>\n",
       "    <tr>\n",
       "      <th>Customer_Segment</th>\n",
       "      <th></th>\n",
       "      <th></th>\n",
       "      <th></th>\n",
       "      <th></th>\n",
       "      <th></th>\n",
       "      <th></th>\n",
       "      <th></th>\n",
       "      <th></th>\n",
       "      <th></th>\n",
       "      <th></th>\n",
       "      <th></th>\n",
       "      <th></th>\n",
       "    </tr>\n",
       "  </thead>\n",
       "  <tbody>\n",
       "    <tr>\n",
       "      <th>Consumer</th>\n",
       "      <td>153</td>\n",
       "      <td>153</td>\n",
       "      <td>153</td>\n",
       "      <td>153</td>\n",
       "      <td>153</td>\n",
       "      <td>153</td>\n",
       "      <td>153</td>\n",
       "      <td>153</td>\n",
       "      <td>153</td>\n",
       "      <td>153</td>\n",
       "      <td>153</td>\n",
       "      <td>153</td>\n",
       "    </tr>\n",
       "    <tr>\n",
       "      <th>Corporate</th>\n",
       "      <td>518</td>\n",
       "      <td>518</td>\n",
       "      <td>518</td>\n",
       "      <td>518</td>\n",
       "      <td>518</td>\n",
       "      <td>518</td>\n",
       "      <td>518</td>\n",
       "      <td>518</td>\n",
       "      <td>518</td>\n",
       "      <td>518</td>\n",
       "      <td>518</td>\n",
       "      <td>518</td>\n",
       "    </tr>\n",
       "    <tr>\n",
       "      <th>Home Office</th>\n",
       "      <td>31</td>\n",
       "      <td>31</td>\n",
       "      <td>31</td>\n",
       "      <td>31</td>\n",
       "      <td>31</td>\n",
       "      <td>31</td>\n",
       "      <td>31</td>\n",
       "      <td>31</td>\n",
       "      <td>31</td>\n",
       "      <td>31</td>\n",
       "      <td>31</td>\n",
       "      <td>31</td>\n",
       "    </tr>\n",
       "    <tr>\n",
       "      <th>Small Business</th>\n",
       "      <td>28</td>\n",
       "      <td>28</td>\n",
       "      <td>28</td>\n",
       "      <td>28</td>\n",
       "      <td>28</td>\n",
       "      <td>28</td>\n",
       "      <td>28</td>\n",
       "      <td>28</td>\n",
       "      <td>28</td>\n",
       "      <td>28</td>\n",
       "      <td>28</td>\n",
       "      <td>28</td>\n",
       "    </tr>\n",
       "  </tbody>\n",
       "</table>\n",
       "</div>"
      ],
      "text/plain": [
       "                  Order_ID  Order_Priority  Order_Quantity  Sales  Ship_Mode  \\\n",
       "Customer_Segment                                                               \n",
       "Consumer               153             153             153    153        153   \n",
       "Corporate              518             518             518    518        518   \n",
       "Home Office             31              31              31     31         31   \n",
       "Small Business          28              28              28     28         28   \n",
       "\n",
       "                  Profit  Customer_Name  Region  Product_Category  \\\n",
       "Customer_Segment                                                    \n",
       "Consumer             153            153     153               153   \n",
       "Corporate            518            518     518               518   \n",
       "Home Office           31             31      31                31   \n",
       "Small Business        28             28      28                28   \n",
       "\n",
       "                  Product_Sub-Category  Product_Name  Product_Container  \n",
       "Customer_Segment                                                         \n",
       "Consumer                           153           153                153  \n",
       "Corporate                          518           518                518  \n",
       "Home Office                         31            31                 31  \n",
       "Small Business                      28            28                 28  "
      ]
     },
     "execution_count": 37,
     "metadata": {},
     "output_type": "execute_result"
    }
   ],
   "source": [
    "customers_of_segment = df.groupby('Customer_Segment').count()\n",
    "customers_of_segment\n",
    "\n",
    "#customers_of_segment.get_group('Small Business')['Order_ID'].unique()"
   ]
  },
  {
   "cell_type": "code",
   "execution_count": 47,
   "id": "f7e8fe93-c017-4477-8b44-db9beb53ed4f",
   "metadata": {},
   "outputs": [],
   "source": [
    "# unique_customers_of_segment = df.groupby('Customer_Segment').nunique()\n",
    "# segment_customers = unique_customers_of_segment['Order_ID']\n",
    "# segment_customers"
   ]
  },
  {
   "cell_type": "code",
   "execution_count": 54,
   "id": "ac8d7f60-d0ef-4204-9144-435d7fcd646e",
   "metadata": {},
   "outputs": [
    {
     "data": {
      "text/html": [
       "<div>\n",
       "<style scoped>\n",
       "    .dataframe tbody tr th:only-of-type {\n",
       "        vertical-align: middle;\n",
       "    }\n",
       "\n",
       "    .dataframe tbody tr th {\n",
       "        vertical-align: top;\n",
       "    }\n",
       "\n",
       "    .dataframe thead th {\n",
       "        text-align: right;\n",
       "    }\n",
       "</style>\n",
       "<table border=\"1\" class=\"dataframe\">\n",
       "  <thead>\n",
       "    <tr style=\"text-align: right;\">\n",
       "      <th></th>\n",
       "      <th>Customer_Segment</th>\n",
       "      <th>Order_ID</th>\n",
       "    </tr>\n",
       "  </thead>\n",
       "  <tbody>\n",
       "    <tr>\n",
       "      <th>0</th>\n",
       "      <td>Consumer</td>\n",
       "      <td>126</td>\n",
       "    </tr>\n",
       "    <tr>\n",
       "      <th>1</th>\n",
       "      <td>Corporate</td>\n",
       "      <td>390</td>\n",
       "    </tr>\n",
       "    <tr>\n",
       "      <th>2</th>\n",
       "      <td>Home Office</td>\n",
       "      <td>30</td>\n",
       "    </tr>\n",
       "    <tr>\n",
       "      <th>3</th>\n",
       "      <td>Small Business</td>\n",
       "      <td>25</td>\n",
       "    </tr>\n",
       "  </tbody>\n",
       "</table>\n",
       "</div>"
      ],
      "text/plain": [
       "  Customer_Segment  Order_ID\n",
       "0         Consumer       126\n",
       "1        Corporate       390\n",
       "2      Home Office        30\n",
       "3   Small Business        25"
      ]
     },
     "execution_count": 54,
     "metadata": {},
     "output_type": "execute_result"
    }
   ],
   "source": [
    "segment_customers = df.groupby('Customer_Segment')['Order_ID'].nunique().reset_index()\n",
    "segment_customers"
   ]
  },
  {
   "cell_type": "code",
   "execution_count": 52,
   "id": "63c0576e-8317-4557-a593-d241e653ac22",
   "metadata": {},
   "outputs": [],
   "source": [
    "customers = df['Order_ID']"
   ]
  },
  {
   "cell_type": "code",
   "execution_count": null,
   "id": "4b85d6c4-558c-47b1-a114-fae3b134eabc",
   "metadata": {},
   "outputs": [],
   "source": []
  },
  {
   "cell_type": "code",
   "execution_count": 73,
   "id": "8619277f-4aa8-41e7-84b3-edf3038c52f2",
   "metadata": {},
   "outputs": [
    {
     "data": {
      "text/html": [
       "<div>\n",
       "<style scoped>\n",
       "    .dataframe tbody tr th:only-of-type {\n",
       "        vertical-align: middle;\n",
       "    }\n",
       "\n",
       "    .dataframe tbody tr th {\n",
       "        vertical-align: top;\n",
       "    }\n",
       "\n",
       "    .dataframe thead th {\n",
       "        text-align: right;\n",
       "    }\n",
       "</style>\n",
       "<table border=\"1\" class=\"dataframe\">\n",
       "  <thead>\n",
       "    <tr style=\"text-align: right;\">\n",
       "      <th></th>\n",
       "      <th>Order_ID</th>\n",
       "      <th>Customer_Name</th>\n",
       "    </tr>\n",
       "  </thead>\n",
       "  <tbody>\n",
       "    <tr>\n",
       "      <th>0</th>\n",
       "      <td>35</td>\n",
       "      <td>Julie Creighton</td>\n",
       "    </tr>\n",
       "    <tr>\n",
       "      <th>1</th>\n",
       "      <td>293</td>\n",
       "      <td>Barry French</td>\n",
       "    </tr>\n",
       "    <tr>\n",
       "      <th>2</th>\n",
       "      <td>322</td>\n",
       "      <td>Giulietta Weimer</td>\n",
       "    </tr>\n",
       "    <tr>\n",
       "      <th>3</th>\n",
       "      <td>450</td>\n",
       "      <td>Matt Collins</td>\n",
       "    </tr>\n",
       "    <tr>\n",
       "      <th>4</th>\n",
       "      <td>483</td>\n",
       "      <td>Clay Rozendal</td>\n",
       "    </tr>\n",
       "    <tr>\n",
       "      <th>...</th>\n",
       "      <td>...</td>\n",
       "      <td>...</td>\n",
       "    </tr>\n",
       "    <tr>\n",
       "      <th>566</th>\n",
       "      <td>59585</td>\n",
       "      <td>Edward Hooks</td>\n",
       "    </tr>\n",
       "    <tr>\n",
       "      <th>567</th>\n",
       "      <td>59651</td>\n",
       "      <td>Brendan Dodson</td>\n",
       "    </tr>\n",
       "    <tr>\n",
       "      <th>568</th>\n",
       "      <td>59750</td>\n",
       "      <td>Jim Sink</td>\n",
       "    </tr>\n",
       "    <tr>\n",
       "      <th>569</th>\n",
       "      <td>59878</td>\n",
       "      <td>Ivan Gibson</td>\n",
       "    </tr>\n",
       "    <tr>\n",
       "      <th>570</th>\n",
       "      <td>59909</td>\n",
       "      <td>Christina Vanderzanden</td>\n",
       "    </tr>\n",
       "  </tbody>\n",
       "</table>\n",
       "<p>571 rows × 2 columns</p>\n",
       "</div>"
      ],
      "text/plain": [
       "     Order_ID           Customer_Name\n",
       "0          35         Julie Creighton\n",
       "1         293            Barry French\n",
       "2         322        Giulietta Weimer\n",
       "3         450            Matt Collins\n",
       "4         483           Clay Rozendal\n",
       "..        ...                     ...\n",
       "566     59585            Edward Hooks\n",
       "567     59651          Brendan Dodson\n",
       "568     59750                Jim Sink\n",
       "569     59878             Ivan Gibson\n",
       "570     59909  Christina Vanderzanden\n",
       "\n",
       "[571 rows x 2 columns]"
      ]
     },
     "execution_count": 73,
     "metadata": {},
     "output_type": "execute_result"
    }
   ],
   "source": [
    "loyal_customers = df.groupby(['Order_ID','Customer_Name'])[['Order_Quantity', 'Profit']].mean().reset_index()\n",
    "#check if there is a Customer that has the same Customer_Name and the same Order_ID\n",
    "loyal_customers[['Order_ID','Customer_Name']].duplicated().any()\n",
    "loyal_customers[['Order_ID','Customer_Name']]"
   ]
  },
  {
   "cell_type": "code",
   "execution_count": null,
   "id": "1ad09778-6ed3-45bb-8875-a37487891fd0",
   "metadata": {},
   "outputs": [],
   "source": []
  },
  {
   "cell_type": "code",
   "execution_count": null,
   "id": "cdd4679e-ad57-4851-a15c-821b2cb97851",
   "metadata": {},
   "outputs": [],
   "source": []
  },
  {
   "cell_type": "code",
   "execution_count": null,
   "id": "3c5ec423-a5e7-4cab-a2ca-43c58f57fa48",
   "metadata": {},
   "outputs": [],
   "source": []
  },
  {
   "cell_type": "code",
   "execution_count": null,
   "id": "8fb883c2-84db-4c66-9e53-c4c601ff31e8",
   "metadata": {},
   "outputs": [],
   "source": []
  },
  {
   "cell_type": "code",
   "execution_count": null,
   "id": "7c5f918a-168d-4da5-9eb5-b01571dbe4c0",
   "metadata": {},
   "outputs": [],
   "source": []
  },
  {
   "cell_type": "code",
   "execution_count": null,
   "id": "052ab103-cb9a-47df-9f41-1a44bd62cab3",
   "metadata": {},
   "outputs": [],
   "source": []
  },
  {
   "cell_type": "code",
   "execution_count": null,
   "id": "7b02660a-1cb5-4346-919f-c1b61ecc0959",
   "metadata": {},
   "outputs": [],
   "source": []
  },
  {
   "cell_type": "code",
   "execution_count": null,
   "id": "a1ddf0f6-b9b7-4bfc-a2c0-11888542ca33",
   "metadata": {},
   "outputs": [],
   "source": []
  },
  {
   "cell_type": "code",
   "execution_count": null,
   "id": "88c2b9b6-cebf-4e02-9359-8ffe27b9e14a",
   "metadata": {},
   "outputs": [],
   "source": []
  },
  {
   "cell_type": "code",
   "execution_count": null,
   "id": "e885fd9b-e258-41cd-bd93-f5355e6df0c2",
   "metadata": {},
   "outputs": [],
   "source": []
  },
  {
   "cell_type": "code",
   "execution_count": null,
   "id": "bf6b32cb-9695-44a0-8c04-4a7cdde91602",
   "metadata": {},
   "outputs": [],
   "source": []
  },
  {
   "cell_type": "code",
   "execution_count": null,
   "id": "81b51ba9-04cd-4efa-870e-8ebba272327a",
   "metadata": {},
   "outputs": [],
   "source": []
  },
  {
   "cell_type": "code",
   "execution_count": null,
   "id": "114184f8-b6a2-486f-ba4e-3db66a2ecb34",
   "metadata": {},
   "outputs": [],
   "source": []
  },
  {
   "cell_type": "code",
   "execution_count": null,
   "id": "3fe1f690-5a82-42f3-8695-2e49b9d76133",
   "metadata": {},
   "outputs": [],
   "source": []
  },
  {
   "cell_type": "code",
   "execution_count": null,
   "id": "ccd36a34-fb9a-4798-bb49-fe998103f43c",
   "metadata": {},
   "outputs": [],
   "source": []
  },
  {
   "cell_type": "code",
   "execution_count": null,
   "id": "3f43d3fd-026d-46a6-950d-8e88b37a4f21",
   "metadata": {},
   "outputs": [],
   "source": []
  },
  {
   "cell_type": "markdown",
   "id": "e9c2dbd2-c26f-41e6-b1b7-4257c27b37b0",
   "metadata": {},
   "source": []
  }
 ],
 "metadata": {
  "kernelspec": {
   "display_name": "Python 3 (ipykernel)",
   "language": "python",
   "name": "python3"
  },
  "language_info": {
   "codemirror_mode": {
    "name": "ipython",
    "version": 3
   },
   "file_extension": ".py",
   "mimetype": "text/x-python",
   "name": "python",
   "nbconvert_exporter": "python",
   "pygments_lexer": "ipython3",
   "version": "3.12.0"
  }
 },
 "nbformat": 4,
 "nbformat_minor": 5
}
