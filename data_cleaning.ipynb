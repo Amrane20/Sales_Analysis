{
 "cells": [
  {
   "cell_type": "code",
   "execution_count": 2,
   "id": "acf1b696-5d59-40df-b9aa-48e12326bc74",
   "metadata": {},
   "outputs": [
    {
     "data": {
      "text/html": [
       "<div>\n",
       "<style scoped>\n",
       "    .dataframe tbody tr th:only-of-type {\n",
       "        vertical-align: middle;\n",
       "    }\n",
       "\n",
       "    .dataframe tbody tr th {\n",
       "        vertical-align: top;\n",
       "    }\n",
       "\n",
       "    .dataframe thead th {\n",
       "        text-align: right;\n",
       "    }\n",
       "</style>\n",
       "<table border=\"1\" class=\"dataframe\">\n",
       "  <thead>\n",
       "    <tr style=\"text-align: right;\">\n",
       "      <th></th>\n",
       "      <th>Order_ID</th>\n",
       "      <th>Order_Priority</th>\n",
       "      <th>Order_Quantity</th>\n",
       "      <th>Sales</th>\n",
       "      <th>Ship_Mode</th>\n",
       "      <th>Profit</th>\n",
       "      <th>Customer_Name</th>\n",
       "      <th>Region</th>\n",
       "      <th>Customer_Segment</th>\n",
       "      <th>Product_Category</th>\n",
       "      <th>Product_Sub-Category</th>\n",
       "      <th>Product_Name</th>\n",
       "      <th>Product_Container</th>\n",
       "    </tr>\n",
       "  </thead>\n",
       "  <tbody>\n",
       "    <tr>\n",
       "      <th>0</th>\n",
       "      <td>643</td>\n",
       "      <td>High</td>\n",
       "      <td>21</td>\n",
       "      <td>2781.82</td>\n",
       "      <td>Express Air</td>\n",
       "      <td>-695.26</td>\n",
       "      <td>Monica Federle</td>\n",
       "      <td>Nunavut</td>\n",
       "      <td>Corporate</td>\n",
       "      <td>Office Supplies</td>\n",
       "      <td>Storage &amp; Organization</td>\n",
       "      <td>SAFCO Commercial Wire Shelving, Black</td>\n",
       "      <td>Large Box</td>\n",
       "    </tr>\n",
       "    <tr>\n",
       "      <th>1</th>\n",
       "      <td>8995</td>\n",
       "      <td>High</td>\n",
       "      <td>35</td>\n",
       "      <td>3389.93</td>\n",
       "      <td>Express Air</td>\n",
       "      <td>737.94</td>\n",
       "      <td>Beth Paige</td>\n",
       "      <td>Northwest Territories</td>\n",
       "      <td>Consumer</td>\n",
       "      <td>Furniture</td>\n",
       "      <td>Office Furnishings</td>\n",
       "      <td>Luxo Professional Combination Clamp-On Lamps</td>\n",
       "      <td>Large Box</td>\n",
       "    </tr>\n",
       "    <tr>\n",
       "      <th>2</th>\n",
       "      <td>9127</td>\n",
       "      <td>Not Specified</td>\n",
       "      <td>7</td>\n",
       "      <td>2039.56</td>\n",
       "      <td>Express Air</td>\n",
       "      <td>-329.49</td>\n",
       "      <td>Bryan Davis</td>\n",
       "      <td>Northwest Territories</td>\n",
       "      <td>Corporate</td>\n",
       "      <td>Office Supplies</td>\n",
       "      <td>Storage &amp; Organization</td>\n",
       "      <td>Tennsco Snap-Together Open Shelving Units, Sta...</td>\n",
       "      <td>Large Box</td>\n",
       "    </tr>\n",
       "    <tr>\n",
       "      <th>3</th>\n",
       "      <td>26272</td>\n",
       "      <td>Low</td>\n",
       "      <td>6</td>\n",
       "      <td>905.94</td>\n",
       "      <td>Express Air</td>\n",
       "      <td>-4.19</td>\n",
       "      <td>Carlos Daly</td>\n",
       "      <td>Northwest Territories</td>\n",
       "      <td>Home Office</td>\n",
       "      <td>Furniture</td>\n",
       "      <td>Chairs &amp; Chairmats</td>\n",
       "      <td>Hon Olson Stacker Stools</td>\n",
       "      <td>Large Box</td>\n",
       "    </tr>\n",
       "    <tr>\n",
       "      <th>4</th>\n",
       "      <td>36646</td>\n",
       "      <td>Medium</td>\n",
       "      <td>24</td>\n",
       "      <td>1168.15</td>\n",
       "      <td>Express Air</td>\n",
       "      <td>-743.96</td>\n",
       "      <td>Muhammed MacIntyre</td>\n",
       "      <td>Northwest Territories</td>\n",
       "      <td>Small Business</td>\n",
       "      <td>Office Supplies</td>\n",
       "      <td>Storage &amp; Organization</td>\n",
       "      <td>Tennsco Industrial Shelving</td>\n",
       "      <td>Large Box</td>\n",
       "    </tr>\n",
       "    <tr>\n",
       "      <th>5</th>\n",
       "      <td>41696</td>\n",
       "      <td>Not Specified</td>\n",
       "      <td>45</td>\n",
       "      <td>237.28</td>\n",
       "      <td>Express Air</td>\n",
       "      <td>-2088.68</td>\n",
       "      <td>Bryan Mills</td>\n",
       "      <td>Northwest Territories</td>\n",
       "      <td>Small Business</td>\n",
       "      <td>Office Supplies</td>\n",
       "      <td>Appliances</td>\n",
       "      <td>Hoover Portapower™ Portable Vacuum</td>\n",
       "      <td>Large Box</td>\n",
       "    </tr>\n",
       "    <tr>\n",
       "      <th>6</th>\n",
       "      <td>43267</td>\n",
       "      <td>Critical</td>\n",
       "      <td>17</td>\n",
       "      <td>1368.14</td>\n",
       "      <td>Express Air</td>\n",
       "      <td>171.26</td>\n",
       "      <td>Fred Wasserman</td>\n",
       "      <td>Northwest Territories</td>\n",
       "      <td>Home Office</td>\n",
       "      <td>Office Supplies</td>\n",
       "      <td>Appliances</td>\n",
       "      <td>Honeywell Enviracaire® Portable Air Cleaner fo...</td>\n",
       "      <td>Large Box</td>\n",
       "    </tr>\n",
       "    <tr>\n",
       "      <th>7</th>\n",
       "      <td>29319</td>\n",
       "      <td>Low</td>\n",
       "      <td>21</td>\n",
       "      <td>4429.69</td>\n",
       "      <td>Express Air</td>\n",
       "      <td>983.55</td>\n",
       "      <td>Filia McAdams</td>\n",
       "      <td>Atlantic</td>\n",
       "      <td>Small Business</td>\n",
       "      <td>Technology</td>\n",
       "      <td>Copiers and Fax</td>\n",
       "      <td>Canon PC-428 Personal Copier</td>\n",
       "      <td>Large Box</td>\n",
       "    </tr>\n",
       "    <tr>\n",
       "      <th>8</th>\n",
       "      <td>5988</td>\n",
       "      <td>Not Specified</td>\n",
       "      <td>40</td>\n",
       "      <td>19109.61</td>\n",
       "      <td>Express Air</td>\n",
       "      <td>-379.29</td>\n",
       "      <td>Sanjit Chand</td>\n",
       "      <td>West</td>\n",
       "      <td>Home Office</td>\n",
       "      <td>Technology</td>\n",
       "      <td>Copiers and Fax</td>\n",
       "      <td>Sharp AL-1530CS Digital Copier</td>\n",
       "      <td>Large Box</td>\n",
       "    </tr>\n",
       "    <tr>\n",
       "      <th>9</th>\n",
       "      <td>51073</td>\n",
       "      <td>Not Specified</td>\n",
       "      <td>17</td>\n",
       "      <td>2475.08</td>\n",
       "      <td>Express Air</td>\n",
       "      <td>958.80</td>\n",
       "      <td>Luke Weiss</td>\n",
       "      <td>West</td>\n",
       "      <td>Corporate</td>\n",
       "      <td>Furniture</td>\n",
       "      <td>Office Furnishings</td>\n",
       "      <td>3M Polarizing Task Lamp with Clamp Arm, Light ...</td>\n",
       "      <td>Large Box</td>\n",
       "    </tr>\n",
       "  </tbody>\n",
       "</table>\n",
       "</div>"
      ],
      "text/plain": [
       "   Order_ID Order_Priority  Order_Quantity     Sales    Ship_Mode   Profit  \\\n",
       "0       643           High              21   2781.82  Express Air  -695.26   \n",
       "1      8995           High              35   3389.93  Express Air   737.94   \n",
       "2      9127  Not Specified               7   2039.56  Express Air  -329.49   \n",
       "3     26272            Low               6    905.94  Express Air    -4.19   \n",
       "4     36646         Medium              24   1168.15  Express Air  -743.96   \n",
       "5     41696  Not Specified              45    237.28  Express Air -2088.68   \n",
       "6     43267       Critical              17   1368.14  Express Air   171.26   \n",
       "7     29319            Low              21   4429.69  Express Air   983.55   \n",
       "8      5988  Not Specified              40  19109.61  Express Air  -379.29   \n",
       "9     51073  Not Specified              17   2475.08  Express Air   958.80   \n",
       "\n",
       "        Customer_Name                 Region Customer_Segment  \\\n",
       "0      Monica Federle                Nunavut        Corporate   \n",
       "1          Beth Paige  Northwest Territories         Consumer   \n",
       "2         Bryan Davis  Northwest Territories        Corporate   \n",
       "3         Carlos Daly  Northwest Territories      Home Office   \n",
       "4  Muhammed MacIntyre  Northwest Territories   Small Business   \n",
       "5         Bryan Mills  Northwest Territories   Small Business   \n",
       "6      Fred Wasserman  Northwest Territories      Home Office   \n",
       "7       Filia McAdams               Atlantic   Small Business   \n",
       "8        Sanjit Chand                   West      Home Office   \n",
       "9          Luke Weiss                   West        Corporate   \n",
       "\n",
       "  Product_Category    Product_Sub-Category  \\\n",
       "0  Office Supplies  Storage & Organization   \n",
       "1        Furniture      Office Furnishings   \n",
       "2  Office Supplies  Storage & Organization   \n",
       "3        Furniture      Chairs & Chairmats   \n",
       "4  Office Supplies  Storage & Organization   \n",
       "5  Office Supplies              Appliances   \n",
       "6  Office Supplies              Appliances   \n",
       "7       Technology         Copiers and Fax   \n",
       "8       Technology         Copiers and Fax   \n",
       "9        Furniture      Office Furnishings   \n",
       "\n",
       "                                        Product_Name Product_Container  \n",
       "0              SAFCO Commercial Wire Shelving, Black         Large Box  \n",
       "1       Luxo Professional Combination Clamp-On Lamps         Large Box  \n",
       "2  Tennsco Snap-Together Open Shelving Units, Sta...         Large Box  \n",
       "3                           Hon Olson Stacker Stools         Large Box  \n",
       "4                        Tennsco Industrial Shelving         Large Box  \n",
       "5                 Hoover Portapower™ Portable Vacuum         Large Box  \n",
       "6  Honeywell Enviracaire® Portable Air Cleaner fo...         Large Box  \n",
       "7                       Canon PC-428 Personal Copier         Large Box  \n",
       "8                     Sharp AL-1530CS Digital Copier         Large Box  \n",
       "9  3M Polarizing Task Lamp with Clamp Arm, Light ...         Large Box  "
      ]
     },
     "execution_count": 2,
     "metadata": {},
     "output_type": "execute_result"
    }
   ],
   "source": [
    "import pandas as pd \n",
    "import matplotlib.pyplot as plt\n",
    "import numpy as np\n",
    "import seaborn as sns\n",
    "import plotly.express as px\n",
    "data = \"data/Salesstore.csv\"\n",
    "df = pd.read_csv(data)\n",
    "df.head(10)"
   ]
  },
  {
   "cell_type": "code",
   "execution_count": null,
   "id": "dda00430-d296-41d3-9524-da99d3641c25",
   "metadata": {},
   "outputs": [],
   "source": [
    "#check null values "
   ]
  },
  {
   "cell_type": "code",
   "execution_count": 25,
   "id": "f3408fec-93c1-4d78-81c5-9099d74cd168",
   "metadata": {},
   "outputs": [
    {
     "data": {
      "text/plain": [
       "Order_ID                False\n",
       "Order_Priority          False\n",
       "Order_Quantity          False\n",
       "Sales                   False\n",
       "Ship_Mode               False\n",
       "Profit                  False\n",
       "Customer_Name           False\n",
       "Region                  False\n",
       "Customer_Segment        False\n",
       "Product_Category        False\n",
       "Product_Sub-Category    False\n",
       "Product_Name            False\n",
       "Product_Container       False\n",
       "dtype: bool"
      ]
     },
     "execution_count": 25,
     "metadata": {},
     "output_type": "execute_result"
    }
   ],
   "source": [
    "df.isnull().any()"
   ]
  },
  {
   "cell_type": "code",
   "execution_count": null,
   "id": "36373034-76ad-49f6-bf5a-d10ce00c8b7b",
   "metadata": {},
   "outputs": [],
   "source": [
    "#check duplication"
   ]
  },
  {
   "cell_type": "code",
   "execution_count": 29,
   "id": "59c7db77-5b35-4018-8204-7625effec29b",
   "metadata": {},
   "outputs": [
    {
     "data": {
      "text/plain": [
       "False"
      ]
     },
     "execution_count": 29,
     "metadata": {},
     "output_type": "execute_result"
    }
   ],
   "source": [
    "df.duplicated().any()"
   ]
  },
  {
   "cell_type": "code",
   "execution_count": null,
   "id": "bb328f7a-cc76-4da0-b8c1-b441ba484e0c",
   "metadata": {},
   "outputs": [],
   "source": [
    "#check the data type of the dataFrame"
   ]
  },
  {
   "cell_type": "code",
   "execution_count": 31,
   "id": "cf9fd23b-f292-42d8-b01e-0d928667b479",
   "metadata": {},
   "outputs": [
    {
     "name": "stdout",
     "output_type": "stream",
     "text": [
      "Order_ID                  int64\n",
      "Order_Priority           object\n",
      "Order_Quantity            int64\n",
      "Sales                   float64\n",
      "Ship_Mode                object\n",
      "Profit                  float64\n",
      "Customer_Name            object\n",
      "Region                   object\n",
      "Customer_Segment         object\n",
      "Product_Category         object\n",
      "Product_Sub-Category     object\n",
      "Product_Name             object\n",
      "Product_Container        object\n",
      "dtype: object\n"
     ]
    }
   ],
   "source": [
    "print(df.dtypes)"
   ]
  },
  {
   "cell_type": "code",
   "execution_count": 9,
   "id": "1a870f4d-a71b-4be7-a5eb-9a18e046682b",
   "metadata": {},
   "outputs": [
    {
     "data": {
      "text/plain": [
       "Index(['Order_ID', 'Order_Priority', 'Order_Quantity', 'Sales', 'Ship_Mode',\n",
       "       'Profit', 'Customer_Name', 'Region', 'Customer_Segment',\n",
       "       'Product_Category', 'Product_Sub-Category', 'Product_Name',\n",
       "       'Product_Container'],\n",
       "      dtype='object')"
      ]
     },
     "execution_count": 9,
     "metadata": {},
     "output_type": "execute_result"
    }
   ],
   "source": [
    "df.columns"
   ]
  },
  {
   "cell_type": "markdown",
   "id": "6941b257-8e49-435b-9560-5d5d6b200270",
   "metadata": {},
   "source": [
    "### Drop the 'customer_Name' column"
   ]
  },
  {
   "cell_type": "code",
   "execution_count": 31,
   "id": "fc5047a5-f345-4769-8d2c-2e7f99a4f832",
   "metadata": {},
   "outputs": [],
   "source": [
    "df = df.drop('Customer_Name', axis=1)"
   ]
  },
  {
   "cell_type": "code",
   "execution_count": 32,
   "id": "3d35afca-9d0a-43fa-b1c4-4942f4604013",
   "metadata": {},
   "outputs": [
    {
     "data": {
      "text/html": [
       "<div>\n",
       "<style scoped>\n",
       "    .dataframe tbody tr th:only-of-type {\n",
       "        vertical-align: middle;\n",
       "    }\n",
       "\n",
       "    .dataframe tbody tr th {\n",
       "        vertical-align: top;\n",
       "    }\n",
       "\n",
       "    .dataframe thead th {\n",
       "        text-align: right;\n",
       "    }\n",
       "</style>\n",
       "<table border=\"1\" class=\"dataframe\">\n",
       "  <thead>\n",
       "    <tr style=\"text-align: right;\">\n",
       "      <th></th>\n",
       "      <th>Order_ID</th>\n",
       "      <th>Order_Priority</th>\n",
       "      <th>Order_Quantity</th>\n",
       "      <th>Sales</th>\n",
       "      <th>Ship_Mode</th>\n",
       "      <th>Profit</th>\n",
       "      <th>Region</th>\n",
       "      <th>Customer_Segment</th>\n",
       "      <th>Product_Category</th>\n",
       "      <th>Product_Sub-Category</th>\n",
       "      <th>Product_Name</th>\n",
       "      <th>Product_Container</th>\n",
       "    </tr>\n",
       "  </thead>\n",
       "  <tbody>\n",
       "    <tr>\n",
       "      <th>0</th>\n",
       "      <td>643</td>\n",
       "      <td>High</td>\n",
       "      <td>21</td>\n",
       "      <td>2781.82</td>\n",
       "      <td>Express Air</td>\n",
       "      <td>-695.26</td>\n",
       "      <td>Nunavut</td>\n",
       "      <td>Corporate</td>\n",
       "      <td>Office Supplies</td>\n",
       "      <td>Storage &amp; Organization</td>\n",
       "      <td>SAFCO Commercial Wire Shelving, Black</td>\n",
       "      <td>Large Box</td>\n",
       "    </tr>\n",
       "    <tr>\n",
       "      <th>1</th>\n",
       "      <td>8995</td>\n",
       "      <td>High</td>\n",
       "      <td>35</td>\n",
       "      <td>3389.93</td>\n",
       "      <td>Express Air</td>\n",
       "      <td>737.94</td>\n",
       "      <td>Northwest Territories</td>\n",
       "      <td>Consumer</td>\n",
       "      <td>Furniture</td>\n",
       "      <td>Office Furnishings</td>\n",
       "      <td>Luxo Professional Combination Clamp-On Lamps</td>\n",
       "      <td>Large Box</td>\n",
       "    </tr>\n",
       "    <tr>\n",
       "      <th>2</th>\n",
       "      <td>9127</td>\n",
       "      <td>Not Specified</td>\n",
       "      <td>7</td>\n",
       "      <td>2039.56</td>\n",
       "      <td>Express Air</td>\n",
       "      <td>-329.49</td>\n",
       "      <td>Northwest Territories</td>\n",
       "      <td>Corporate</td>\n",
       "      <td>Office Supplies</td>\n",
       "      <td>Storage &amp; Organization</td>\n",
       "      <td>Tennsco Snap-Together Open Shelving Units, Sta...</td>\n",
       "      <td>Large Box</td>\n",
       "    </tr>\n",
       "    <tr>\n",
       "      <th>3</th>\n",
       "      <td>26272</td>\n",
       "      <td>Low</td>\n",
       "      <td>6</td>\n",
       "      <td>905.94</td>\n",
       "      <td>Express Air</td>\n",
       "      <td>-4.19</td>\n",
       "      <td>Northwest Territories</td>\n",
       "      <td>Home Office</td>\n",
       "      <td>Furniture</td>\n",
       "      <td>Chairs &amp; Chairmats</td>\n",
       "      <td>Hon Olson Stacker Stools</td>\n",
       "      <td>Large Box</td>\n",
       "    </tr>\n",
       "    <tr>\n",
       "      <th>4</th>\n",
       "      <td>36646</td>\n",
       "      <td>Medium</td>\n",
       "      <td>24</td>\n",
       "      <td>1168.15</td>\n",
       "      <td>Express Air</td>\n",
       "      <td>-743.96</td>\n",
       "      <td>Northwest Territories</td>\n",
       "      <td>Small Business</td>\n",
       "      <td>Office Supplies</td>\n",
       "      <td>Storage &amp; Organization</td>\n",
       "      <td>Tennsco Industrial Shelving</td>\n",
       "      <td>Large Box</td>\n",
       "    </tr>\n",
       "  </tbody>\n",
       "</table>\n",
       "</div>"
      ],
      "text/plain": [
       "   Order_ID Order_Priority  Order_Quantity    Sales    Ship_Mode  Profit  \\\n",
       "0       643           High              21  2781.82  Express Air -695.26   \n",
       "1      8995           High              35  3389.93  Express Air  737.94   \n",
       "2      9127  Not Specified               7  2039.56  Express Air -329.49   \n",
       "3     26272            Low               6   905.94  Express Air   -4.19   \n",
       "4     36646         Medium              24  1168.15  Express Air -743.96   \n",
       "\n",
       "                  Region Customer_Segment Product_Category  \\\n",
       "0                Nunavut        Corporate  Office Supplies   \n",
       "1  Northwest Territories         Consumer        Furniture   \n",
       "2  Northwest Territories        Corporate  Office Supplies   \n",
       "3  Northwest Territories      Home Office        Furniture   \n",
       "4  Northwest Territories   Small Business  Office Supplies   \n",
       "\n",
       "     Product_Sub-Category                                       Product_Name  \\\n",
       "0  Storage & Organization              SAFCO Commercial Wire Shelving, Black   \n",
       "1      Office Furnishings       Luxo Professional Combination Clamp-On Lamps   \n",
       "2  Storage & Organization  Tennsco Snap-Together Open Shelving Units, Sta...   \n",
       "3      Chairs & Chairmats                           Hon Olson Stacker Stools   \n",
       "4  Storage & Organization                        Tennsco Industrial Shelving   \n",
       "\n",
       "  Product_Container  \n",
       "0         Large Box  \n",
       "1         Large Box  \n",
       "2         Large Box  \n",
       "3         Large Box  \n",
       "4         Large Box  "
      ]
     },
     "execution_count": 32,
     "metadata": {},
     "output_type": "execute_result"
    }
   ],
   "source": [
    "df.head()"
   ]
  },
  {
   "cell_type": "markdown",
   "id": "ad7be241-de8e-4b91-815a-02108121ba57",
   "metadata": {},
   "source": [
    "### Data standarlizing"
   ]
  },
  {
   "cell_type": "code",
   "execution_count": 34,
   "id": "3d8b2eb8-4b0f-42b1-9107-aed10f4ff93a",
   "metadata": {},
   "outputs": [],
   "source": [
    "columns_to_capitalize = ['Order_Priority', 'Ship_Mode', 'Region', 'Customer_Segment',\n",
    "       'Product_Category', 'Product_Sub-Category', 'Product_Name',\n",
    "       'Product_Container']\n",
    "df[columns_to_capitalize] = df[columns_to_capitalize].apply(lambda x: x.str.title())"
   ]
  },
  {
   "cell_type": "markdown",
   "id": "7369b37e-fb65-4b97-8f3c-95c4bc54a1b5",
   "metadata": {},
   "source": [
    "## => What is the number of unique Order_priority?"
   ]
  },
  {
   "cell_type": "code",
   "execution_count": 40,
   "id": "93967067-876a-4fc4-adc1-4eab2ca377f0",
   "metadata": {},
   "outputs": [
    {
     "data": {
      "text/plain": [
       "5"
      ]
     },
     "execution_count": 40,
     "metadata": {},
     "output_type": "execute_result"
    }
   ],
   "source": [
    "nb_priority = df['Order_Priority'].nunique()\n",
    "nb_priority"
   ]
  },
  {
   "cell_type": "markdown",
   "id": "f2e9b585-c686-4fbb-91db-a4eb6b1cab41",
   "metadata": {},
   "source": [
    "## => How many orders for each priority ?"
   ]
  },
  {
   "cell_type": "code",
   "execution_count": 26,
   "id": "c9c6b4ed-1fb5-43b2-8995-28edf39f7bc1",
   "metadata": {},
   "outputs": [
    {
     "data": {
      "text/plain": [
       "Order_Priority\n",
       "Not Specified    156\n",
       "High             152\n",
       "Low              147\n",
       "Critical         147\n",
       "Medium           128\n",
       "Name: count, dtype: int64"
      ]
     },
     "execution_count": 26,
     "metadata": {},
     "output_type": "execute_result"
    }
   ],
   "source": [
    "nb_priority = df['Order_Priority'].value_counts()\n",
    "nb_priority"
   ]
  },
  {
   "cell_type": "markdown",
   "id": "abf79b13-419c-4105-ab57-0ecdbbe783a9",
   "metadata": {},
   "source": [
    "#### How many region there ?"
   ]
  },
  {
   "cell_type": "code",
   "execution_count": 12,
   "id": "433bc2b7-1daf-469f-bf18-95f703bf059b",
   "metadata": {},
   "outputs": [
    {
     "data": {
      "text/plain": [
       "6"
      ]
     },
     "execution_count": 12,
     "metadata": {},
     "output_type": "execute_result"
    }
   ],
   "source": [
    "regions = df['Region'].nunique()\n",
    "regions"
   ]
  },
  {
   "cell_type": "code",
   "execution_count": 24,
   "id": "a92dfa22-c1bf-4201-9905-24daefd7a3b0",
   "metadata": {},
   "outputs": [
    {
     "data": {
      "text/plain": [
       "['Nunavut', 'Northwest Territories', 'Atlantic', 'West', 'Ontario', 'Prarie']"
      ]
     },
     "execution_count": 24,
     "metadata": {},
     "output_type": "execute_result"
    }
   ],
   "source": [
    "regions = df['Region'].unique().tolist()\n",
    "regions"
   ]
  },
  {
   "cell_type": "markdown",
   "id": "e55beca6-b47f-4555-a874-7243e861ea99",
   "metadata": {},
   "source": [
    "### How many Customer_Segment are there?"
   ]
  },
  {
   "cell_type": "code",
   "execution_count": 14,
   "id": "9e66059e-8d80-4aea-a73c-6f97d7c2f123",
   "metadata": {},
   "outputs": [
    {
     "data": {
      "text/plain": [
       "4"
      ]
     },
     "execution_count": 14,
     "metadata": {},
     "output_type": "execute_result"
    }
   ],
   "source": [
    "segments = df['Customer_Segment'].nunique()\n",
    "segments"
   ]
  },
  {
   "cell_type": "code",
   "execution_count": 23,
   "id": "6b3a5dd2-54cf-4794-9ea4-f4b54f317a82",
   "metadata": {},
   "outputs": [
    {
     "data": {
      "text/plain": [
       "['Corporate', 'Consumer', 'Home Office', 'Small Business']"
      ]
     },
     "execution_count": 23,
     "metadata": {},
     "output_type": "execute_result"
    }
   ],
   "source": [
    "segments = df['Customer_Segment'].unique().tolist()\n",
    "segments"
   ]
  },
  {
   "cell_type": "markdown",
   "id": "d1c4b5ba-d936-4be0-85b0-b9c582f50bb0",
   "metadata": {},
   "source": [
    "### How many Product_Catigorie exists?"
   ]
  },
  {
   "cell_type": "code",
   "execution_count": 19,
   "id": "367a367a-ab14-4d32-840e-66227ef5422c",
   "metadata": {},
   "outputs": [
    {
     "data": {
      "text/plain": [
       "3"
      ]
     },
     "execution_count": 19,
     "metadata": {},
     "output_type": "execute_result"
    }
   ],
   "source": [
    "products = df['Product_Category'].nunique()\n",
    "products\n"
   ]
  },
  {
   "cell_type": "code",
   "execution_count": 22,
   "id": "63f27dcb-beb7-4150-94e6-1206d8047687",
   "metadata": {},
   "outputs": [
    {
     "data": {
      "text/plain": [
       "['Office Supplies', 'Furniture', 'Technology']"
      ]
     },
     "execution_count": 22,
     "metadata": {},
     "output_type": "execute_result"
    }
   ],
   "source": [
    "products = df['Product_Category'].unique().tolist()\n",
    "products"
   ]
  },
  {
   "cell_type": "markdown",
   "id": "31380c6e-7ef4-4bdc-bbd5-76bcf84aa891",
   "metadata": {},
   "source": [
    "### How many Product_Sub-Category are there?"
   ]
  },
  {
   "cell_type": "code",
   "execution_count": 28,
   "id": "68749072-2a51-4788-9b07-578fec2a82f9",
   "metadata": {},
   "outputs": [
    {
     "data": {
      "text/plain": [
       "15"
      ]
     },
     "execution_count": 28,
     "metadata": {},
     "output_type": "execute_result"
    }
   ],
   "source": [
    "sup_products = df['Product_Sub-Category'].nunique()\n",
    "sup_products"
   ]
  },
  {
   "cell_type": "code",
   "execution_count": 29,
   "id": "250f47c2-424c-41d9-836d-879527abc712",
   "metadata": {},
   "outputs": [
    {
     "data": {
      "text/plain": [
       "['Storage & Organization',\n",
       " 'Office Furnishings',\n",
       " 'Chairs & Chairmats',\n",
       " 'Appliances',\n",
       " 'Copiers and Fax',\n",
       " 'Office Machines',\n",
       " 'Tables',\n",
       " 'Telephones and Communication',\n",
       " 'Scissors, Rulers and Trimmers',\n",
       " 'Labels',\n",
       " 'Paper',\n",
       " 'Binders and Binder Accessories',\n",
       " 'Computer Peripherals',\n",
       " 'Envelopes',\n",
       " 'Pens & Art Supplies']"
      ]
     },
     "execution_count": 29,
     "metadata": {},
     "output_type": "execute_result"
    }
   ],
   "source": [
    "sup_products = df['Product_Sub-Category'].unique().tolist()\n",
    "sup_products"
   ]
  },
  {
   "cell_type": "code",
   "execution_count": null,
   "id": "dfb7df42-9a44-4978-8062-5773297b01f1",
   "metadata": {},
   "outputs": [],
   "source": []
  },
  {
   "cell_type": "code",
   "execution_count": null,
   "id": "92a44126-70bb-493e-9d3e-8f63ad94428c",
   "metadata": {},
   "outputs": [],
   "source": []
  },
  {
   "cell_type": "code",
   "execution_count": null,
   "id": "1e2a1852-b0e3-4d9d-9346-25504177af52",
   "metadata": {},
   "outputs": [],
   "source": []
  },
  {
   "cell_type": "code",
   "execution_count": null,
   "id": "9afd33db-c0d3-4b1d-ac11-31dbc72a675e",
   "metadata": {},
   "outputs": [],
   "source": []
  },
  {
   "cell_type": "code",
   "execution_count": null,
   "id": "4d29579e-6b42-4353-8797-82b670773d80",
   "metadata": {},
   "outputs": [],
   "source": []
  }
 ],
 "metadata": {
  "kernelspec": {
   "display_name": "Python 3 (ipykernel)",
   "language": "python",
   "name": "python3"
  },
  "language_info": {
   "codemirror_mode": {
    "name": "ipython",
    "version": 3
   },
   "file_extension": ".py",
   "mimetype": "text/x-python",
   "name": "python",
   "nbconvert_exporter": "python",
   "pygments_lexer": "ipython3",
   "version": "3.12.0"
  }
 },
 "nbformat": 4,
 "nbformat_minor": 5
}
